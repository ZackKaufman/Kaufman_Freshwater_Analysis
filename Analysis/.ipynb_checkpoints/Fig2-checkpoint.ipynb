{
 "cells": [
  {
   "cell_type": "markdown",
   "id": "5c9b24b6-971f-43e7-9e51-8e329e6dffda",
   "metadata": {},
   "source": [
    "The following code reproduces Figure 2 from the manuscript, containing the following: \n",
    "\n",
    "Historical trends in Southern Ocean freshwater forcing, 1990-2021. (a,b) shows 1990-2021 trends in $P$-$E$ ((P-E)$_{hist}$) for the CMIP6 multi-model mean (a), and ERA5 reanalysis (b). Stippling denotes grid cells where trends are not statistically significant at the 95$\\%$ level, according to a two-sided t-test, and green circles are shown as in Fig. 1a. (c) compares the Southern Ocean-integrated $P$-$E$ trends for CMIP6 models (blue) and observations (black), shown as anomalies relative to a 1979-1989 baseline average, with dashed lines showing linear trend fits for each dataset. (d) compares the $F_{(P-E)}$ (blue) and  $F_{melt}$ (green) forcing time series and their associated uncertainties (shading), where $F_{(P-E)}$ is defined as the difference between simulated (multi-model mean) and observed linear trends in (c). Labels in (d) list the cumulative 1990-2021 freshwater input from each source."
   ]
  },
  {
   "cell_type": "code",
   "execution_count": 1,
   "id": "d68852c6-3b54-4b7d-93d9-a1da04100b6f",
   "metadata": {},
   "outputs": [],
   "source": [
    "import numpy as np\n",
    "import pandas as pd\n",
    "import xarray as xr\n",
    "import netCDF4\n",
    "from scipy.stats import linregress\n",
    "import os \n",
    "import dask\n",
    "import cftime\n",
    "import xesmf as xe\n",
    "\n",
    "from matplotlib import pyplot as plt\n",
    "import matplotlib.ticker as ticker\n",
    "import matplotlib.ticker as mticker\n",
    "import matplotlib.path as mpath\n",
    "\n",
    "\n",
    "import cartopy.crs as ccrs\n",
    "from cartopy.mpl.ticker import LongitudeFormatter, LatitudeFormatter\n",
    "\n",
    "import intake\n",
    "from xmip.preprocessing import rename_cmip6\n",
    "from xmip.preprocessing import broadcast_lonlat\n",
    "from xmip.preprocessing import combined_preprocessing\n",
    "from xmip.utils import google_cmip_col\n",
    "from xmip.postprocessing import match_metrics\n",
    "from xmip.postprocessing import merge_variables\n",
    "from xmip.postprocessing import interpolate_grid_label\n",
    "from xmip.postprocessing import concat_experiments\n",
    "from xmip.postprocessing import pick_first_member\n",
    "\n",
    "%matplotlib inline\n",
    "import warnings \n",
    "warnings.filterwarnings(\"ignore\")"
   ]
  },
  {
   "cell_type": "markdown",
   "id": "57ae6d39-bc67-4a18-b22b-9dff75ccdc28",
   "metadata": {},
   "source": [
    "First, obtain 1979-2021 Southern Ocean trends in precipitation-evaporation balance (P-E) balance for 14 CMIP6 models from the google cloud. Then splice historical and projected (ssp585 emissions scenario) simulations using monthly diagnostic output for precipitation (pr) evaporation (evspsbl) from the atmosphere component (Amon) "
   ]
  },
  {
   "cell_type": "code",
   "execution_count": 2,
   "id": "51e9fac0-8245-4634-8302-2e5cce9702cf",
   "metadata": {},
   "outputs": [
    {
     "name": "stdout",
     "output_type": "stream",
     "text": [
      "\n",
      "--> The keys in the returned dictionary of datasets are constructed as follows:\n",
      "\t'activity_id.institution_id.source_id.experiment_id.member_id.table_id.variable_id.grid_label.zstore.dcpp_init_year.version'\n"
     ]
    },
    {
     "data": {
      "text/html": [
       "\n",
       "<style>\n",
       "    /* Turns off some styling */\n",
       "    progress {\n",
       "        /* gets rid of default border in Firefox and Opera. */\n",
       "        border: none;\n",
       "        /* Needs to be in here for Safari polyfill so background images work as expected. */\n",
       "        background-size: auto;\n",
       "    }\n",
       "    progress:not([value]), progress:not([value])::-webkit-progress-bar {\n",
       "        background: repeating-linear-gradient(45deg, #7e7e7e, #7e7e7e 10px, #5c5c5c 10px, #5c5c5c 20px);\n",
       "    }\n",
       "    .progress-bar-interrupted, .progress-bar-interrupted::-webkit-progress-bar {\n",
       "        background: #F44336;\n",
       "    }\n",
       "</style>\n"
      ],
      "text/plain": [
       "<IPython.core.display.HTML object>"
      ]
     },
     "metadata": {},
     "output_type": "display_data"
    },
    {
     "data": {
      "text/html": [
       "\n",
       "    <div>\n",
       "      <progress value='84' class='' max='84' style='width:300px; height:20px; vertical-align: middle;'></progress>\n",
       "      100.00% [84/84 00:46&lt;00:00]\n",
       "    </div>\n",
       "    "
      ],
      "text/plain": [
       "<IPython.core.display.HTML object>"
      ]
     },
     "metadata": {},
     "output_type": "display_data"
    }
   ],
   "source": [
    "# get base query \n",
    "url = \"https://storage.googleapis.com/cmip6/pangeo-cmip6.json\"\n",
    "col = intake.open_esm_datastore(url)\n",
    "\n",
    "df_base = col.search(\n",
    "    activity_id=['CMIP','ScenarioMIP'],\n",
    "    table_id = ['Amon'],\n",
    "    variable_id = ['pr','evspsbl'],\n",
    "    experiment_id = ['historical','ssp585'],\n",
    "    source_id = [\n",
    "    \"ACCESS-CM2\",\n",
    "    \"ACCESS-ESM1-5\",\n",
    "    \"AWI-ESM-1-REcoM\",\n",
    "    \"CanESM5\",\n",
    "    \"CAS-ESM2-0\",\n",
    "    \"CESM2\",\n",
    "    \"FGOALS-g3\",\n",
    "    \"GFDL-CM4\",\n",
    "    \"GFDL-ESM2M\",\n",
    "    \"GFDL-ESM4\",\n",
    "    \"GISS-E2-1-G\",\n",
    "    \"HadGEM3-GC31-LL\",\n",
    "    \"MIROC6\",\n",
    "    \"MPI-ESM1-2-HR\",\n",
    "    \"MPI-ESM1-2-LR\",\n",
    "    \"MRI-ESM2-0\"\n",
    "],\n",
    "    member_id = ['r1i1p1f1','r1i1p1f3','r1i1p5f1','r10i1p1f1']\n",
    "\n",
    ")\n",
    "\n",
    "# create xarray dictionaries for each search query \n",
    "kwargs = {\n",
    "    'zarr_kwargs':{\n",
    "        'consolidated':True,\n",
    "        'use_cftime':True\n",
    "    },\n",
    "    'aggregate':False,\n",
    "    \n",
    "    'preprocess':combined_preprocessing\n",
    "}\n",
    "\n",
    "with dask.config.set(**{'array.slicing.split_large_chunks': True}):\n",
    "    combined_dict = df_base.to_dataset_dict(**kwargs)\n"
   ]
  },
  {
   "cell_type": "code",
   "execution_count": 7,
   "id": "ba463f6b-7917-4e50-8e41-f3008c4da8ba",
   "metadata": {},
   "outputs": [
    {
     "name": "stdout",
     "output_type": "stream",
     "text": [
      "\n",
      "--> The keys in the returned dictionary of datasets are constructed as follows:\n",
      "\t'activity_id.institution_id.source_id.experiment_id.member_id.table_id.variable_id.grid_label.zstore.dcpp_init_year.version'\n"
     ]
    },
    {
     "data": {
      "text/html": [
       "\n",
       "<style>\n",
       "    /* Turns off some styling */\n",
       "    progress {\n",
       "        /* gets rid of default border in Firefox and Opera. */\n",
       "        border: none;\n",
       "        /* Needs to be in here for Safari polyfill so background images work as expected. */\n",
       "        background-size: auto;\n",
       "    }\n",
       "    progress:not([value]), progress:not([value])::-webkit-progress-bar {\n",
       "        background: repeating-linear-gradient(45deg, #7e7e7e, #7e7e7e 10px, #5c5c5c 10px, #5c5c5c 20px);\n",
       "    }\n",
       "    .progress-bar-interrupted, .progress-bar-interrupted::-webkit-progress-bar {\n",
       "        background: #F44336;\n",
       "    }\n",
       "</style>\n"
      ],
      "text/plain": [
       "<IPython.core.display.HTML object>"
      ]
     },
     "metadata": {},
     "output_type": "display_data"
    },
    {
     "data": {
      "text/html": [
       "\n",
       "    <div>\n",
       "      <progress value='15' class='' max='15' style='width:300px; height:20px; vertical-align: middle;'></progress>\n",
       "      100.00% [15/15 00:27&lt;00:00]\n",
       "    </div>\n",
       "    "
      ],
      "text/plain": [
       "<IPython.core.display.HTML object>"
      ]
     },
     "metadata": {},
     "output_type": "display_data"
    },
    {
     "name": "stdout",
     "output_type": "stream",
     "text": [
      "Number of items in the combined dictionary: 12\n"
     ]
    },
    {
     "data": {
      "text/plain": [
       "['ACCESS-CM2.gn.piControl.fx.areacella',\n",
       " 'GISS-E2-1-G.gn.piControl.fx.areacella',\n",
       " 'HadGEM3-GC31-LL.gn.piControl.fx.areacella',\n",
       " 'CanESM5.gn.piControl.fx.areacella',\n",
       " 'ACCESS-ESM1-5.gn.piControl.fx.areacella',\n",
       " 'CESM2.gn.piControl.fx.areacella',\n",
       " 'GFDL-ESM4.gr1.piControl.fx.areacella',\n",
       " 'GFDL-CM4.gr1.piControl.fx.areacella',\n",
       " 'MPI-ESM1-2-LR.gn.piControl.fx.areacella',\n",
       " 'MRI-ESM2-0.gn.piControl.fx.areacella',\n",
       " 'MIROC6.gn.piControl.fx.areacella',\n",
       " 'MPI-ESM1-2-HR.gn.piControl.fx.areacella']"
      ]
     },
     "execution_count": 7,
     "metadata": {},
     "output_type": "execute_result"
    }
   ],
   "source": [
    "# now get a dataset for gridcell area for looking at spatially integrated quantities. \n",
    "# since all datasets are eventually regridded to a common grid, most _id parameter selections are arbitrary here\n",
    "# furthermore, unique areacella files for each model grid aren't always available, necessitating regridding. \n",
    "\n",
    "df_area = col.search(\n",
    "    table_id = ['fx'],\n",
    "    variable_id = ['areacella'],\n",
    "    grid_label = ['gn','gr1'],\n",
    "    experiment_id = ['piControl'],\n",
    "    source_id = [\n",
    "    \"ACCESS-CM2\",\n",
    "    \"ACCESS-ESM1-5\",\n",
    "    \"AWI-ESM-1-REcoM\",\n",
    "    \"CanESM5\",\n",
    "    \"CAS-ESM2-0\",\n",
    "    \"CESM2\",\n",
    "    \"FGOALS-g3\",\n",
    "    \"GFDL-CM4\",\n",
    "    \"GFDL-ESM2M\",\n",
    "    \"GFDL-ESM4\",\n",
    "    \"GISS-E2-1-G\",\n",
    "    \"HadGEM3-GC31-LL\",\n",
    "    \"MIROC6\",\n",
    "    \"MPI-ESM1-2-HR\",\n",
    "    \"MPI-ESM1-2-LR\",\n",
    "    \"MRI-ESM2-0\"\n",
    "]\n",
    ")\n",
    "\n",
    "with dask.config.set(**{'array.slicing.split_large_chunks': True}):\n",
    "    areacella_dict = pick_first_member(df_area.to_dataset_dict(**kwargs))\n",
    "print(\"Number of items in the combined dictionary:\", len(areacella_dict))\n",
    "list(areacella_dict.keys())"
   ]
  },
  {
   "cell_type": "code",
   "execution_count": 8,
   "id": "d968a124-c0ba-43e6-a89d-5d02b8c28dcf",
   "metadata": {},
   "outputs": [
    {
     "name": "stdout",
     "output_type": "stream",
     "text": [
      "\n",
      "--> The keys in the returned dictionary of datasets are constructed as follows:\n",
      "\t'activity_id.institution_id.source_id.experiment_id.member_id.table_id.variable_id.grid_label.zstore.dcpp_init_year.version'\n"
     ]
    },
    {
     "data": {
      "text/html": [
       "\n",
       "<style>\n",
       "    /* Turns off some styling */\n",
       "    progress {\n",
       "        /* gets rid of default border in Firefox and Opera. */\n",
       "        border: none;\n",
       "        /* Needs to be in here for Safari polyfill so background images work as expected. */\n",
       "        background-size: auto;\n",
       "    }\n",
       "    progress:not([value]), progress:not([value])::-webkit-progress-bar {\n",
       "        background: repeating-linear-gradient(45deg, #7e7e7e, #7e7e7e 10px, #5c5c5c 10px, #5c5c5c 20px);\n",
       "    }\n",
       "    .progress-bar-interrupted, .progress-bar-interrupted::-webkit-progress-bar {\n",
       "        background: #F44336;\n",
       "    }\n",
       "</style>\n"
      ],
      "text/plain": [
       "<IPython.core.display.HTML object>"
      ]
     },
     "metadata": {},
     "output_type": "display_data"
    },
    {
     "data": {
      "text/html": [
       "\n",
       "    <div>\n",
       "      <progress value='15' class='' max='15' style='width:300px; height:20px; vertical-align: middle;'></progress>\n",
       "      100.00% [15/15 00:26&lt;00:00]\n",
       "    </div>\n",
       "    "
      ],
      "text/plain": [
       "<IPython.core.display.HTML object>"
      ]
     },
     "metadata": {},
     "output_type": "display_data"
    },
    {
     "name": "stdout",
     "output_type": "stream",
     "text": [
      "Number of items in the combined dictionary: 12\n"
     ]
    },
    {
     "data": {
      "text/plain": [
       "['MPI-ESM1-2-LR.gn.piControl.fx.sftlf',\n",
       " 'ACCESS-CM2.gn.piControl.fx.sftlf',\n",
       " 'ACCESS-ESM1-5.gn.piControl.fx.sftlf',\n",
       " 'MRI-ESM2-0.gn.piControl.fx.sftlf',\n",
       " 'CanESM5.gn.piControl.fx.sftlf',\n",
       " 'HadGEM3-GC31-LL.gn.piControl.fx.sftlf',\n",
       " 'CESM2.gn.piControl.fx.sftlf',\n",
       " 'GFDL-CM4.gr1.piControl.fx.sftlf',\n",
       " 'MPI-ESM1-2-HR.gn.piControl.fx.sftlf',\n",
       " 'FGOALS-g3.gn.piControl.fx.sftlf',\n",
       " 'GISS-E2-1-G.gn.piControl.fx.sftlf',\n",
       " 'MIROC6.gn.piControl.fx.sftlf']"
      ]
     },
     "execution_count": 8,
     "metadata": {},
     "output_type": "execute_result"
    }
   ],
   "source": [
    "# Do the same thing for landfrac \n",
    "\n",
    "df_area = col.search(\n",
    "    table_id = ['fx'],\n",
    "    variable_id = ['sftlf'],\n",
    "    grid_label = ['gn','gr1'],\n",
    "    experiment_id = ['piControl'],\n",
    "    source_id = [\n",
    "    \"ACCESS-CM2\",\n",
    "    \"ACCESS-ESM1-5\",\n",
    "    \"AWI-ESM-1-REcoM\",\n",
    "    \"CanESM5\",\n",
    "    \"CAS-ESM2-0\",\n",
    "    \"CESM2\",\n",
    "    \"FGOALS-g3\",\n",
    "    \"GFDL-CM4\",\n",
    "    \"GFDL-ESM2M\",\n",
    "    \"GFDL-ESM4\",\n",
    "    \"GISS-E2-1-G\",\n",
    "    \"HadGEM3-GC31-LL\",\n",
    "    \"MIROC6\",\n",
    "    \"MPI-ESM1-2-HR\",\n",
    "    \"MPI-ESM1-2-LR\",\n",
    "    \"MRI-ESM2-0\"\n",
    "]\n",
    ")\n",
    "\n",
    "with dask.config.set(**{'array.slicing.split_large_chunks': True}):\n",
    "    sftlf_dict = pick_first_member(df_area.to_dataset_dict(**kwargs))\n",
    "print(\"Number of items in the combined dictionary:\", len(sftlf_dict))\n",
    "list(sftlf_dict.keys())"
   ]
  },
  {
   "cell_type": "code",
   "execution_count": 9,
   "id": "42182efd-1484-42df-ad81-03ecd098e72d",
   "metadata": {},
   "outputs": [
    {
     "name": "stdout",
     "output_type": "stream",
     "text": [
      "Number of items in the combined dictionary: 14\n"
     ]
    },
    {
     "data": {
      "text/plain": [
       "['MPI-ESM1-2-HR.gn.Amon.r1i1p1f1',\n",
       " 'CESM2.gn.Amon.r10i1p1f1',\n",
       " 'MPI-ESM1-2-LR.gn.Amon.r1i1p1f1',\n",
       " 'GFDL-ESM4.gr1.Amon.r1i1p1f1',\n",
       " 'CAS-ESM2-0.gn.Amon.r1i1p1f1',\n",
       " 'MRI-ESM2-0.gn.Amon.r1i1p1f1',\n",
       " 'FGOALS-g3.gn.Amon.r1i1p1f1',\n",
       " 'ACCESS-CM2.gn.Amon.r1i1p1f1',\n",
       " 'ACCESS-ESM1-5.gn.Amon.r1i1p1f1',\n",
       " 'HadGEM3-GC31-LL.gn.Amon.r1i1p1f3',\n",
       " 'GFDL-CM4.gr1.Amon.r1i1p1f1',\n",
       " 'MIROC6.gn.Amon.r1i1p1f1',\n",
       " 'CanESM5.gn.Amon.r1i1p1f1',\n",
       " 'GISS-E2-1-G.gn.Amon.r1i1p5f1']"
      ]
     },
     "execution_count": 9,
     "metadata": {},
     "output_type": "execute_result"
    }
   ],
   "source": [
    "# merge pr and evspsbl variables together in each dataset \n",
    "combined_dict_merged = merge_variables(combined_dict)\n",
    "\n",
    "# subset to the time period of interest \n",
    "\n",
    "historical_start = '1979-01-01'\n",
    "historical_end = '2014-12-30'\n",
    "ssp245_start = '2015-01-01'\n",
    "ssp245_end = '2021-12-30'\n",
    "\n",
    "# Adjust time range for historical and ssp585 data in the original dictionary\n",
    "for key, value in combined_dict_merged.items():\n",
    "    # Check if the item is related to historical data\n",
    "    if 'historical' in key:\n",
    "        combined_dict_merged[key] = value.sel(time=slice(historical_start, historical_end))\n",
    "    # Check if the item is related to ssp245 data\n",
    "    elif 'ssp585' in key:\n",
    "        combined_dict_merged[key] = value.sel(time=slice(ssp245_start, ssp245_end))\n",
    "        \n",
    "# splice the experiments together \n",
    "PE_dict_CMIP6 = \\\n",
    "match_metrics(combined_dict_merged, areacella_dict, ['areacella'], match_attrs=['source_id', 'grid_label'])\n",
    "PE_dict_CMIP6 = \\\n",
    "match_metrics(PE_dict_CMIP6, sftlf_dict, ['sftlf'], match_attrs=['source_id', 'grid_label'])\n",
    "PE_dict_CMIP6 = concat_experiments(PE_dict_CMIP6)\n",
    "\n",
    "\n",
    "# get rid of unneeded models and verify we have 14 \n",
    "del PE_dict_CMIP6['GISS-E2-1-G.gn.Amon.r1i1p1f1']\n",
    "del PE_dict_CMIP6['CESM2.gn.Amon.r1i1p1f1']\n",
    "del PE_dict_CMIP6['GISS-E2-1-G.gn.Amon.r1i1p1f3']\n",
    "del PE_dict_CMIP6['GISS-E2-1-G.gn.Amon.r10i1p1f1']\n",
    "del PE_dict_CMIP6['ACCESS-ESM1-5.gn.Amon.r10i1p1f1']\n",
    "del PE_dict_CMIP6['MPI-ESM1-2-LR.gn.Amon.r10i1p1f1']\n",
    "del PE_dict_CMIP6['MIROC6.gn.Amon.r10i1p1f1']\n",
    "del PE_dict_CMIP6['CanESM5.gn.Amon.r10i1p1f1']\n",
    "del PE_dict_CMIP6['MPI-ESM1-2-HR.gn.Amon.r10i1p1f1']\n",
    "del PE_dict_CMIP6['MRI-ESM2-0.gn.Amon.r10i1p1f1']\n",
    "print(\"Number of items in the combined dictionary:\", len(PE_dict_CMIP6))\n",
    "list(PE_dict_CMIP6.keys())\n"
   ]
  },
  {
   "cell_type": "code",
   "execution_count": 10,
   "id": "be3b0b21-1d3d-42f0-b2cc-654b9fca7700",
   "metadata": {},
   "outputs": [],
   "source": [
    "# to be continued... "
   ]
  },
  {
   "cell_type": "code",
   "execution_count": null,
   "id": "32c51641-6f5a-4269-b416-c48dc51a3713",
   "metadata": {},
   "outputs": [],
   "source": []
  }
 ],
 "metadata": {
  "kernelspec": {
   "display_name": "Python 3 (ipykernel)",
   "language": "python",
   "name": "python3"
  },
  "language_info": {
   "codemirror_mode": {
    "name": "ipython",
    "version": 3
   },
   "file_extension": ".py",
   "mimetype": "text/x-python",
   "name": "python",
   "nbconvert_exporter": "python",
   "pygments_lexer": "ipython3",
   "version": "3.10.6"
  }
 },
 "nbformat": 4,
 "nbformat_minor": 5
}
