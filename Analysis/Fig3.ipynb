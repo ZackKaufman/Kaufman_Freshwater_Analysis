{
 "cells": [
  {
   "cell_type": "markdown",
   "id": "9b109147-cf48-47ae-b21d-569f113ede7f",
   "metadata": {},
   "source": [
    "The following code reproduces Figure 3 from the manuscript, containing the following: \n",
    "\n",
    "1990-2021 Southern Ocean SST trends in models and observations. The transient SST response to historical freshwater forcings ($F_{(P-E)}$ and $F_{melt}$, see Fig. 2d) are shown in (a) for Antarctic meltwater ($SST_{melt}(t)$, green curve) and the observed-simulated difference in enhanced $P$-$E$ ($SST_{(P-E)}(t)$, blue curve). The transient responses are estimated using Eqn. 2 (shown below), with shading showing the combined uncertainty from historical forcing (Fig. 2d) and the standard deviation of climate response function fits associated with the forcing (Fig. 1c,f). Boxplots in (b) show the effect of adding the transient cooling responses from (a) to historical SST trends simulated in CMIP6. For comparison, the observed Southern Ocean SST from NOAA-ERSSTv5 is shown with horizontal black lines for the trend estimate (solid) and standard error (dashed)."
   ]
  },
  {
   "cell_type": "code",
   "execution_count": 1,
   "id": "6f022763-91b1-492b-aa5d-029ee9a92138",
   "metadata": {},
   "outputs": [],
   "source": [
    "import numpy as np\n",
    "import pandas as pd\n",
    "import xarray as xr\n",
    "xr.set_options(display_style='html')\n",
    "import netCDF4\n",
    "import os \n",
    "import dask\n",
    "import cftime\n",
    "import xesmf as xe\n",
    "\n",
    "from scipy.optimize import curve_fit\n",
    "from scipy.stats import pearsonr\n",
    "from scipy.stats import linregress\n",
    "\n",
    "from matplotlib import pyplot as plt\n",
    "import matplotlib.ticker as ticker\n",
    "import matplotlib.ticker as mticker\n",
    "import matplotlib.path as mpath\n",
    "\n",
    "import intake\n",
    "from xmip.preprocessing import rename_cmip6\n",
    "from xmip.preprocessing import broadcast_lonlat\n",
    "from xmip.preprocessing import combined_preprocessing\n",
    "from xmip.utils import google_cmip_col\n",
    "from xmip.postprocessing import match_metrics\n",
    "from xmip.postprocessing import merge_variables\n",
    "from xmip.postprocessing import interpolate_grid_label\n",
    "from xmip.postprocessing import concat_experiments\n",
    "from xmip.postprocessing import pick_first_member\n",
    "\n",
    "%matplotlib inline\n",
    "import warnings \n",
    "warnings.filterwarnings(\"ignore\")"
   ]
  },
  {
   "cell_type": "code",
   "execution_count": 2,
   "id": "844bb06a-a58f-49ac-aff9-bb05cb32e91b",
   "metadata": {},
   "outputs": [],
   "source": [
    "# Set root directory (replace with local path of your repo) \n",
    "root_dir = \"/Users/zackkaufman/Documents/Repos/Kaufman_Freshwater_Analysis\""
   ]
  },
  {
   "cell_type": "code",
   "execution_count": 3,
   "id": "b1ca8c1b-75c3-4682-83da-48109501b485",
   "metadata": {},
   "outputs": [],
   "source": [
    "# import spatially averaged SST response time series (experiment minus time average piControl)\n",
    "# data is annually averaged, length varies among models. \n",
    "\n",
    "# Path to files\n",
    "data_path = os.path.join(root_dir,\"Source_Data/SST_step_responses\")\n",
    "os.chdir(data_path)\n",
    "\n",
    "########################################################################\n",
    "\n",
    "def list_nc_groups(filename):\n",
    "    # Open the NetCDF file\n",
    "    with netCDF4.Dataset(filename, \"r\") as nc:\n",
    "        # Get all group names\n",
    "        groups = list(nc.groups.keys())\n",
    "    return groups\n",
    "\n",
    "########################################################################\n",
    "\n",
    "groups_antwater = list_nc_groups('antwater_CRFs_unscaled.nc')\n",
    "groups_fafwater = list_nc_groups('fafwater_CRFs_unscaled.nc')\n",
    "\n",
    "CRFs_antwater_raw = {}\n",
    "CRFs_fafwater_raw = {}\n",
    "\n",
    "# get scaling factors (in Gt/yr) calculated explicitly in Fig. 1.ipynb\n",
    "F_step_fw = 3956.883981293495\n",
    "F_step_aw = 3154\n",
    "\n",
    "# homogenize lengths for each experiment \n",
    "for group in groups_antwater: \n",
    "    CRFs_antwater_raw[group] = xr.open_dataset('antwater_CRFs_unscaled.nc',group=group)\\\n",
    "    .__xarray_dataarray_variable__.values[:100] / F_step_aw\n",
    "\n",
    "for group in groups_fafwater: \n",
    "    CRFs_fafwater_raw[group] = xr.open_dataset('fafwater_CRFs_unscaled.nc',group=group)\\\n",
    "    .__xarray_dataarray_variable__.values[:70] / F_step_fw"
   ]
  },
  {
   "cell_type": "code",
   "execution_count": 4,
   "id": "71d3aa05-d0d7-4122-a0d7-b34009bfc279",
   "metadata": {},
   "outputs": [],
   "source": [
    "# calculate climate response function fits and their parameters \n",
    "\n",
    "########################################################################\n",
    "\n",
    "def func(x, a, b):\n",
    "    return a * (1 - np.exp(-x / b))\n",
    "\n",
    "def exponential_fit(x, y):\n",
    "    if np.isnan(y).any():\n",
    "        y = np.where(y > 1e100, y, np.nan)\n",
    "        return y, np.nan, np.nan\n",
    "    popt, pcov = curve_fit(func, x, y)\n",
    "    curve = func(x, *popt)\n",
    "    # Calculate standard errors\n",
    "    perr = np.sqrt(np.diag(pcov))\n",
    "    return curve, popt[0], popt[1], perr[0], perr[1]\n",
    "\n",
    "########################################################################\n",
    "\n",
    "# Create new dictionaries for best fit lines, fit parameters, and standard errors\n",
    "fafwater_response_fit_dict = {}\n",
    "antwater_response_fit_dict = {}\n",
    "fit_parameters_fafwater = {}\n",
    "fit_parameters_antwater = {}\n",
    "standard_errors_fafwater = {}\n",
    "standard_errors_antwater = {}\n",
    "\n",
    "# Populate the dictionaries with best fit lines, fit parameters, and standard errors\n",
    "for key, y_values in CRFs_fafwater_raw.items():\n",
    "    fit_line, a, b, std_err_a, std_err_b = \\\n",
    "    exponential_fit(np.linspace(0, len(y_values) - 1, len(y_values)), y_values)\n",
    "    fafwater_response_fit_dict[key + '_fit'] = fit_line\n",
    "    fit_parameters_fafwater[key] = {'a': a, 'b': b}\n",
    "    standard_errors_fafwater[key] = {'a': std_err_a, 'b': std_err_b}\n",
    "\n",
    "for key, y_values in CRFs_antwater_raw.items():\n",
    "    fit_line, a, b, std_err_a, std_err_b = \\\n",
    "    exponential_fit(np.linspace(0, len(y_values) - 1, len(y_values)), y_values)\n",
    "    antwater_response_fit_dict[key + '_fit'] = fit_line\n",
    "    fit_parameters_antwater[key] = {'a': a, 'b': b}\n",
    "    standard_errors_antwater[key] = {'a': std_err_a, 'b': std_err_b}"
   ]
  },
  {
   "cell_type": "code",
   "execution_count": 5,
   "id": "87459c36-12f7-4e78-85ea-adb50604758c",
   "metadata": {},
   "outputs": [],
   "source": [
    "# get multi-model mean and model spread in CRFs for each experiment \n",
    "\n",
    "fit_data_antwater = np.array(list(antwater_response_fit_dict.values()))\n",
    "fit_data_mean_antwater = np.mean(fit_data_antwater,axis=0)\n",
    "fit_data_spread_antwater = np.std(fit_data_antwater,axis=0)\n",
    "fit_data_mean_scaled_antwater = np.mean(fit_data_antwater,axis=0)\n",
    "fit_data_spread_scaled_antwater = np.std(fit_data_antwater,axis=0)\n",
    "\n",
    "fit_data_fafwater = np.array(list(fafwater_response_fit_dict.values()))\n",
    "fit_data_mean_fafwater = np.mean(fit_data_fafwater,axis=0)\n",
    "fit_data_spread_fafwater = np.std(fit_data_fafwater,axis=0)\n",
    "fit_data_mean_scaled_fafwater = np.mean(fit_data_fafwater,axis=0)\n",
    "fit_data_spread_scaled_fafwater = np.std(fit_data_fafwater,axis=0)"
   ]
  },
  {
   "cell_type": "code",
   "execution_count": 6,
   "id": "ec486072-c863-46fc-9d92-bb5178547158",
   "metadata": {},
   "outputs": [],
   "source": [
    "# Let's get our historical  P-E forcing (F_PE, as in Fig. 2d but for individual models). \n",
    "\n",
    "# Define the years and compute the values for trend-adjusted curves\n",
    "years = np.linspace(1990, 2021, 32)\n",
    "\n",
    "# First Curve: Trend lines adjusted to start from zero\n",
    "# Using the previous slopes (Gt/yr^-2) \n",
    "slope_obs = 82.36  \n",
    "slope_CMIP6 = 46.97  \n",
    "\n",
    "# Adjust intercepts to start from zero\n",
    "adjusted_obs = (slope_obs * (years - years[0]))\n",
    "adjusted_CMIP6 = (slope_CMIP6 * (years - years[0]))\n",
    "\n",
    "# Difference between the two trend-adjusted curves\n",
    "F_PE = adjusted_obs - adjusted_CMIP6\n",
    "F_PE_sigma = np.zeros((32))+25.03949146875604"
   ]
  },
  {
   "cell_type": "code",
   "execution_count": 7,
   "id": "b5f574d5-a696-4f9a-9c27-ce9fa9196fa9",
   "metadata": {},
   "outputs": [],
   "source": [
    "# Let's get our historical meltwater  forcing (F_melt, recreate green curve calculated from data in Fig. 2d) \n",
    "# Note that the forcing uncertainty is constant and becomes zero when taking the time derivative \n",
    "# so it can be neglected going forward. \n",
    "\n",
    "# Meltwater forcing time series from Roach et al. 2023 \n",
    "data = {\n",
    "    1990: 115.8, 1991: 115.8, 1992: 115.8, 1993: 115.8, 1994: 115.8,\n",
    "    1995: 110.2, 1996: 82.9, 1997: 154.4, 1998: 187.8, 1999: 499.9,\n",
    "    2000: 428.1, 2001: 430.4, 2002: 276.9, 2003: 424.6, 2004: 488.2,\n",
    "    2005: 453.6, 2006: 547.1, 2007: 679.5, 2008: 600.6, 2009: 534.7,\n",
    "    2010: 585.4, 2011: 416.6, 2012: 443.8, 2013: 499.6, 2014: 456.9,\n",
    "    2015: 381.3, 2016: 157.2, 2017: 331.8, 2018: 331.8, 2019: 331.8,\n",
    "    2020: 331.8, 2021: 331.8\n",
    "}\n",
    "\n",
    "F_melt  = np.array([data[year] for year in range(1990, 2022)])"
   ]
  },
  {
   "cell_type": "markdown",
   "id": "419f5e39-2239-4cfb-a304-fc01fde6abe0",
   "metadata": {},
   "source": [
    "calculate transient SST response to P-E and meltwater using the following equation: \n",
    "\n",
    "$SST_{F}(t) = \\int_{0}^{t}CRF(t - t')\\frac{\\partial{F}}{\\partial{t}}(t')dt'$\n"
   ]
  },
  {
   "cell_type": "code",
   "execution_count": 8,
   "id": "fcaf8a8a-1331-4718-81a5-42579ba023fb",
   "metadata": {},
   "outputs": [],
   "source": [
    "# transient SST response to historical meltwater \n",
    "\n",
    "CRF_scaled_antwater = xr.DataArray(fit_data_mean_antwater)\n",
    "CRF_error_scaled_antwater = xr.DataArray(fit_data_spread_antwater)\n",
    "dF_dt_meltwater = xr.DataArray(F_melt).differentiate('dim_0',edge_order=1)\n",
    "transient_response_antwater = np.convolve(CRF_scaled_antwater,dF_dt_meltwater,mode='full')[0:32]\n",
    "transient_error_antwater = np.convolve(CRF_error_scaled_antwater,dF_dt_meltwater,mode='full')[0:32]\n",
    "\n",
    "# transient SST response to P-E \n",
    "\n",
    "CRF_scaled_fafwater = xr.DataArray(fit_data_mean_fafwater)\n",
    "CRF_error_scaled_fafwater = xr.DataArray(fit_data_spread_fafwater)\n",
    "dF_dt_PE = xr.DataArray(F_PE).differentiate('dim_0',edge_order=1)\n",
    "transient_response_fafwater = np.convolve(CRF_scaled_fafwater,dF_dt_PE,mode='full')[0:32]\n",
    "transient_error_fafwater_CRF = np.convolve(CRF_error_scaled_fafwater,dF_dt_PE,mode='full')[0:32]\n",
    "transient_error_PE_forcing = np.convolve(CRF_scaled_fafwater,F_PE_sigma,mode='full')[0:32]\n",
    "# combine two sources of uncertainty in qudarature \n",
    "transient_error_fafwater = np.sqrt((transient_error_PE_forcing**2)+(transient_error_fafwater_CRF**2))"
   ]
  },
  {
   "cell_type": "code",
   "execution_count": 9,
   "id": "6fbe179d-2ee1-4b8d-ba6b-a74cd97c0564",
   "metadata": {},
   "outputs": [
    {
     "data": {
      "image/png": "[encoded data removed]",
      "text/plain": [
       "<Figure size 316x316 with 1 Axes>"
      ]
     },
     "metadata": {},
     "output_type": "display_data"
    }
   ],
   "source": [
    "# Plot Fig. 3a \n",
    "\n",
    "fig, ax = plt.subplots(figsize=[3.16,3.16])\n",
    "\n",
    "plt.plot(years,transient_response_fafwater,color='blue', linestyle='-', linewidth=2,label='$SST_{P-E}(t)$')\n",
    "plt.fill_between(years,transient_response_fafwater-transient_error_fafwater\\\n",
    "                 ,transient_response_fafwater+transient_error_fafwater,color='blue', alpha=0.2)\n",
    "\n",
    "plt.plot(years,transient_response_antwater,color='green', linestyle='-', linewidth=2,label='$SST_{(melt)}(t)$')\n",
    "plt.fill_between(years,transient_response_antwater-transient_error_antwater\\\n",
    "                 ,transient_response_antwater+transient_error_antwater,color='green',alpha=.3)\n",
    "\n",
    "\n",
    "plt.xlabel('Time (years)')\n",
    "plt.ylabel(r'Response ($^{\\circ}$C)')\n",
    "plt.title(r'Transient Response to' + '\\n'+ '$F_{(P-E)}$ and $F_{melt}$, 1990-2021')\n",
    "ax.text(-.1, 1.1, 'a', transform=plt.gca().transAxes, fontsize=12, fontweight='bold', va='top')\n",
    "plt.legend()\n",
    "\n",
    "plt.show() "
   ]
  },
  {
   "cell_type": "code",
   "execution_count": 10,
   "id": "4e7e2103-6be7-4480-9131-65d0bc0aa618",
   "metadata": {},
   "outputs": [
    {
     "name": "stdout",
     "output_type": "stream",
     "text": [
      "\n",
      "--> The keys in the returned dictionary of datasets are constructed as follows:\n",
      "\t'activity_id.institution_id.source_id.experiment_id.member_id.table_id.variable_id.grid_label.zstore.dcpp_init_year.version'\n"
     ]
    },
    {
     "data": {
      "text/html": [
       "\n",
       "<style>\n",
       "    /* Turns off some styling */\n",
       "    progress {\n",
       "        /* gets rid of default border in Firefox and Opera. */\n",
       "        border: none;\n",
       "        /* Needs to be in here for Safari polyfill so background images work as expected. */\n",
       "        background-size: auto;\n",
       "    }\n",
       "    progress:not([value]), progress:not([value])::-webkit-progress-bar {\n",
       "        background: repeating-linear-gradient(45deg, #7e7e7e, #7e7e7e 10px, #5c5c5c 10px, #5c5c5c 20px);\n",
       "    }\n",
       "    .progress-bar-interrupted, .progress-bar-interrupted::-webkit-progress-bar {\n",
       "        background: #F44336;\n",
       "    }\n",
       "</style>\n"
      ],
      "text/plain": [
       "<IPython.core.display.HTML object>"
      ]
     },
     "metadata": {},
     "output_type": "display_data"
    },
    {
     "data": {
      "text/html": [
       "\n",
       "    <div>\n",
       "      <progress value='48' class='' max='48' style='width:300px; height:20px; vertical-align: middle;'></progress>\n",
       "      100.00% [48/48 00:41&lt;00:00]\n",
       "    </div>\n",
       "    "
      ],
      "text/plain": [
       "<IPython.core.display.HTML object>"
      ]
     },
     "metadata": {},
     "output_type": "display_data"
    }
   ],
   "source": [
    "# Now we need to get historical SST time series as simulated in CMIP6 \n",
    "# The data will be obtained from the intake_esm datastore similar to the P-E \n",
    "# data in Fig2.ipynb \n",
    "# SST variable called tos in saved model output \n",
    "\n",
    "url = 'https://storage.googleapis.com/cmip6/pangeo-cmip6.json'\n",
    "col = intake.open_esm_datastore(url)\n",
    "\n",
    "df_base = col.search(\n",
    "    activity_id=['CMIP','ScenarioMIP'],\n",
    "    table_id = ['Omon'],\n",
    "    variable_id = ['tos'],\n",
    "    experiment_id = ['historical','ssp585'],\n",
    "    source_id = [\n",
    "    \"ACCESS-CM2\",\n",
    "    \"ACCESS-ESM1-5\",\n",
    "    \"AWI-ESM-1-REcoM\",\n",
    "    \"CanESM5\",\n",
    "    \"CAS-ESM2-0\",\n",
    "    \"CESM2\",\n",
    "    \"FGOALS-g3\",\n",
    "    \"GFDL-CM4\",\n",
    "    \"GFDL-ESM2M\",\n",
    "    \"GFDL-ESM4\",\n",
    "    \"GISS-E2-1-G\",\n",
    "    \"HadGEM3-GC31-LL\",\n",
    "    \"MIROC6\",\n",
    "    \"MPI-ESM1-2-HR\",\n",
    "    \"MPI-ESM1-2-LR\",\n",
    "    \"MRI-ESM2-0\"\n",
    "],\n",
    "    member_id = ['r1i1p1f1','r1i1p1f3','r1i1p5f1','r10i1p1f1']\n",
    "\n",
    ")\n",
    "\n",
    "# create xarray dictionaries for each search query \n",
    "kwargs = {\n",
    "    'zarr_kwargs':{\n",
    "        'use_cftime':True\n",
    "    },\n",
    "    'aggregate':False,\n",
    "    \n",
    "    'preprocess':combined_preprocessing\n",
    "}\n",
    "\n",
    "with dask.config.set(**{'array.slicing.split_large_chunks': True}):\n",
    "    dict_tos = df_base.to_dataset_dict(**kwargs)"
   ]
  },
  {
   "cell_type": "code",
   "execution_count": 11,
   "id": "57a94e25-6aa9-4831-8d4a-c2622587b6aa",
   "metadata": {},
   "outputs": [
    {
     "name": "stdout",
     "output_type": "stream",
     "text": [
      "Number of items in the combined dictionary: 13\n"
     ]
    }
   ],
   "source": [
    "# subset to the time period of interest \n",
    "\n",
    "historical_start = '1979-01-01'\n",
    "historical_end = '2014-12-30'\n",
    "ssp585_start = '2015-01-01'\n",
    "ssp585_end = '2021-12-30'\n",
    "\n",
    "# Adjust time range for historical and ssp585 data in the original dictionary\n",
    "for key, value in dict_tos.items():\n",
    "    # Check if the item is related to historical data\n",
    "    if 'historical' in key:\n",
    "        dict_tos[key] = value.sel(time=slice(historical_start, historical_end))\n",
    "    # Check if the item is related to ssp585 data\n",
    "    elif 'ssp585' in key:\n",
    "        dict_tos[key] = value.sel(time=slice(ssp585_start, ssp585_end))\n",
    "        \n",
    "# splice the experiments together \n",
    "dict_tos = concat_experiments(dict_tos)\n",
    "\n",
    "# removed unneeded models and check for correct number \n",
    "del dict_tos['GISS-E2-1-G.gn.Omon.r1i1p1f1.tos']\n",
    "del dict_tos['CESM2.gn.Omon.r1i1p1f1.tos']\n",
    "del dict_tos['GISS-E2-1-G.gn.Omon.r1i1p1f3.tos']\n",
    "del dict_tos['GISS-E2-1-G.gn.Omon.r10i1p1f1.tos']\n",
    "del dict_tos['ACCESS-ESM1-5.gn.Omon.r10i1p1f1.tos']\n",
    "del dict_tos['MPI-ESM1-2-LR.gn.Omon.r10i1p1f1.tos']\n",
    "del dict_tos['MIROC6.gn.Omon.r10i1p1f1.tos']\n",
    "del dict_tos['CanESM5.gn.Omon.r10i1p1f1.tos']\n",
    "del dict_tos['MPI-ESM1-2-HR.gn.Omon.r10i1p1f1.tos']\n",
    "del dict_tos['CAS-ESM2-0.gn.Omon.r1i1p1f1.tos']\n",
    "del dict_tos['CESM2.gr.Omon.r1i1p1f1.tos']\n",
    "del dict_tos['CESM2.gr.Omon.r10i1p1f1.tos']\n",
    "del dict_tos['MRI-ESM2-0.gr.Omon.r1i1p1f1.tos']\n",
    "del dict_tos['GFDL-ESM4.gr.Omon.r1i1p1f1.tos']\n",
    "del dict_tos['GFDL-CM4.gr.Omon.r1i1p1f1.tos']\n",
    "print(\"Number of items in the combined dictionary:\", len(dict_tos))"
   ]
  },
  {
   "cell_type": "code",
   "execution_count": 12,
   "id": "b10581f5-0712-422c-a123-c9c091998f43",
   "metadata": {},
   "outputs": [],
   "source": [
    "# correct for the incorrect units in the ssp585 component of GISS model (deg. K vs. deg. C) \n",
    "\n",
    "dict_tos['GISS-E2-1-G.gn.Omon.r1i1p5f1.tos'].tos[:,:,432:,:,:]=\\\n",
    "dict_tos['GISS-E2-1-G.gn.Omon.r1i1p5f1.tos'].tos[:,:,432:,:,:]-273"
   ]
  },
  {
   "cell_type": "code",
   "execution_count": 13,
   "id": "c855de1d-9341-43ca-a3f8-02da8cc2c8a3",
   "metadata": {},
   "outputs": [
    {
     "name": "stdout",
     "output_type": "stream",
     "text": [
      "Finished model:  FGOALS-g3\n",
      "Finished model:  ACCESS-CM2\n",
      "Finished model:  GFDL-ESM4\n",
      "Finished model:  ACCESS-ESM1-5\n",
      "Finished model:  GFDL-CM4\n",
      "Finished model:  CanESM5\n",
      "Finished model:  CESM2\n",
      "Finished model:  MRI-ESM2-0\n",
      "Finished model:  MPI-ESM1-2-HR\n",
      "Finished model:  HadGEM3-GC31-LL\n",
      "Finished model:  GISS-E2-1-G\n",
      "Finished model:  MIROC6\n",
      "Finished model:  MPI-ESM1-2-LR\n",
      "CPU times: user 11min 22s, sys: 2min 5s, total: 13min 27s\n",
      "Wall time: 14min 53s\n"
     ]
    }
   ],
   "source": [
    "%%time \n",
    "\n",
    "# calculate four sets of time series, the unadjusted CMIP6 SST trend, and the SST trends\n",
    "# adjusted by the transient responses shown in Fig. 3a (first, second, and both) \n",
    "\n",
    "########################################################################\n",
    "\n",
    "# regrid to standard rectilinear 1x1 grid\n",
    "def regrid_dataarray(dataset,data):\n",
    "    ds_out = xe.util.grid_global(1,1)\n",
    "    regridder = xe.Regridder(dataset,ds_out, 'bilinear',periodic=True,\\\n",
    "    ignore_degenerate=True)\n",
    "    return regridder(data)\n",
    "\n",
    "########################################################################\n",
    "\n",
    "# subset xarray dataarray by latitude, assumes coordinates follow the conventions of regrid_dataarray output. \n",
    "def subset_bylatitude(data,south_bound,north_bound):\n",
    "    data_SO = data.sel\\\n",
    "    (y=slice(np.abs(data.lat[:,0].values - (south_bound)).argmin(),\\\n",
    "    np.abs(data.lat[:,0].values - (north_bound)).argmin()))\n",
    "    return data_SO\n",
    "\n",
    "########################################################################\n",
    "\n",
    "# spatially average CMIP6 Omon field over specified latitudes\n",
    "# assumes spatial average is conducted over all longitudes\n",
    "# Assumes regrid_dataarray function is already applied\n",
    "def spatial_average(inputdata,southlat,northlat):\n",
    "    data_subset = subset_bylatitude\\\n",
    "    (inputdata,south_bound=southlat,north_bound=northlat)\n",
    "    lat_subset = data_subset.lat\n",
    "    coslat = np.cos(np.deg2rad(lat_subset))\n",
    "    weight_factor = coslat / coslat.mean(dim='y')\n",
    "    data_average = \\\n",
    "    (data_subset * weight_factor).mean(dim=('x', 'y'),skipna=True)\n",
    "    return data_average\n",
    "\n",
    "########################################################################\n",
    "\n",
    "trends_CMIP6 = []\n",
    "trends_CMIP6_MW = []\n",
    "trends_CMIP6_FW = []\n",
    "trends_CMIP6_both = []\n",
    "\n",
    "# calculate trends in Deg. C per decade \n",
    "\n",
    "years = np.linspace(1990,2021,32)\n",
    "for ds in dict_tos.values():\n",
    "    timeseries_CMIP6 = spatial_average(regrid_dataarray(ds,ds.tos),-65,-50).coarsen(time=12).mean()[0,0,11:]\n",
    "    \n",
    "    trend_CMIP6 = linregress(years,timeseries_CMIP6)[0]*10\n",
    "    \n",
    "    trend_CMIP6_MW = linregress(years,timeseries_CMIP6+transient_response_antwater)[0]*10\n",
    "    \n",
    "    trend_CMIP6_FW = linregress(years,timeseries_CMIP6+transient_response_fafwater)[0]*10\n",
    "    \n",
    "    trend_CMIP6_both = \\\n",
    "    linregress(years,timeseries_CMIP6+transient_response_antwater+transient_response_fafwater)[0]*10\n",
    "\n",
    "    trends_CMIP6.append(trend_CMIP6)\n",
    "    trends_CMIP6_MW.append(trend_CMIP6_MW)\n",
    "    trends_CMIP6_FW.append(trend_CMIP6_FW)\n",
    "    trends_CMIP6_both.append(trend_CMIP6_both)\n",
    "    print('Finished model: ', ds.attrs['parent_source_id'])"
   ]
  },
  {
   "cell_type": "code",
   "execution_count": 41,
   "id": "4780f2ff-a3d7-49ac-9a16-0fa5daa585de",
   "metadata": {},
   "outputs": [
    {
     "data": {
      "text/plain": [
       "dict_keys(['FGOALS-g3.gn.Omon.r1i1p1f1.tos', 'ACCESS-CM2.gn.Omon.r1i1p1f1.tos', 'GFDL-ESM4.gn.Omon.r1i1p1f1.tos', 'ACCESS-ESM1-5.gn.Omon.r1i1p1f1.tos', 'GFDL-CM4.gn.Omon.r1i1p1f1.tos', 'CanESM5.gn.Omon.r1i1p1f1.tos', 'CESM2.gn.Omon.r10i1p1f1.tos', 'MRI-ESM2-0.gn.Omon.r1i1p1f1.tos', 'MPI-ESM1-2-HR.gn.Omon.r1i1p1f1.tos', 'HadGEM3-GC31-LL.gn.Omon.r1i1p1f3.tos', 'GISS-E2-1-G.gn.Omon.r1i1p5f1.tos', 'MIROC6.gn.Omon.r1i1p1f1.tos', 'MPI-ESM1-2-LR.gn.Omon.r1i1p1f1.tos'])"
      ]
     },
     "execution_count": 41,
     "metadata": {},
     "output_type": "execute_result"
    }
   ],
   "source": [
    "dict_tos.keys()"
   ]
  },
  {
   "cell_type": "code",
   "execution_count": 14,
   "id": "dd184ebf-81c1-416d-a0e3-2de77b0b144c",
   "metadata": {},
   "outputs": [
    {
     "name": "stdout",
     "output_type": "stream",
     "text": [
      "Observed SST trend and standard error (Deg. C):  -0.0023856265648763866 0.0019431109415899016\n"
     ]
    }
   ],
   "source": [
    "# the spatially averaged time series of observed Southern Ocean SST (NOAASSTv5 product) is pre-processed \n",
    "# similar to the time series of ERA5 P-E in Fig2.ipynb, but spatially averaged over 65S to 50S \n",
    "# file contains monthly averages \n",
    "\n",
    "data_path = os.path.join(root_dir,\"Source_Data\")\n",
    "os.chdir(data_path)\n",
    "NOAA_SST_timeseries = xr.open_dataset('NOAASSTV5_timeseries_monthly.nc').__xarray_dataarray_variable__\n",
    "\n",
    "# Calculate anomalies relative to the 1979-1989 baseline\n",
    "SST_anoms_obs = \\\n",
    "NOAA_SST_timeseries.sel(time=slice('1990', '2021')) - NOAA_SST_timeseries.sel(time=slice('1979', '1989')).mean(dim='time')\n",
    "\n",
    "SST_anoms_obs = SST_anoms_obs.coarsen(time=12).mean()\n",
    "\n",
    "# get historical observed SST trend and standard error for Southern Ocean \n",
    "trend_NOAASSTV5, _, _, _, stderr_NOAASSTV5 = linregress(years, SST_anoms_obs)\n",
    "print('Observed SST trend and standard error (Deg. C): ', trend_NOAASSTV5,stderr_NOAASSTV5)"
   ]
  },
  {
   "cell_type": "code",
   "execution_count": 15,
   "id": "b1e54352-3109-4906-abd8-659286ba97a4",
   "metadata": {},
   "outputs": [
    {
     "name": "stdout",
     "output_type": "stream",
     "text": [
      "Boxplot 1 (Dataset: _child0):\n",
      "Median: 0.05988386450850952\n",
      "Q1: 0.020500389477945895\n",
      "Q3: 0.12670564347212687\n",
      "Min: 0.04966122932190397\n",
      "Max: 0.10277184741624894\n",
      "Boxplot 2 (Dataset: _child6):\n",
      "Median: 0.032245471753167665\n",
      "Q1: -0.007138003277395914\n",
      "Q3: 0.09906725071678503\n",
      "Min: 0.022022836566562117\n",
      "Max: 0.07513345466090708\n",
      "Boxplot 3 (Dataset: _child12):\n",
      "Median: 0.03680066157759403\n",
      "Q1: -0.0025828134529695935\n",
      "Q3: 0.10362244054121136\n",
      "Min: 0.026578026390988472\n",
      "Max: 0.07968864448533344\n",
      "Boxplot 4 (Dataset: _child18):\n",
      "Median: 0.009162268822252179\n",
      "Q1: -0.03022120620831141\n",
      "Q3: 0.07598404778586955\n",
      "Min: -0.001060366364353378\n",
      "Max: 0.05205025172999162\n"
     ]
    },
    {
     "data": {
      "image/png": "[encoded data removed]",
      "text/plain": [
       "<Figure size 316x391 with 1 Axes>"
      ]
     },
     "metadata": {},
     "output_type": "display_data"
    }
   ],
   "source": [
    "# plot Fig. 3b \n",
    "\n",
    "########################################################################\n",
    "\n",
    "# Creating a figure and axis object\n",
    "fig, ax = plt.subplots(figsize=[3.16,3.91])\n",
    "plt.subplots_adjust(left=0.2, right=0.7, bottom=0.2, top=0.85)  # Adjust the margins as needed\n",
    "\n",
    "########################################################################\n",
    "\n",
    "# Adding a boxplot to the axis and setting labels for each boxplot\n",
    "data = [trends_CMIP6, trends_CMIP6_FW, trends_CMIP6_MW, trends_CMIP6_both]\n",
    "# Colors for each box and whisker plot\n",
    "colors = ['grey', 'blue', 'green', 'black']\n",
    "\n",
    "########################################################################\n",
    "\n",
    "# Adding a boxplot to the axis and setting labels for each boxplot\n",
    "boxplot = ax.boxplot(data, patch_artist=False,showfliers=False)\n",
    "\n",
    "# Setting colors for each box and whisker plot\n",
    "for i, (box, color) in enumerate(zip(boxplot['boxes'], colors)):\n",
    "    box.set_color(color)\n",
    "    box.set_linewidth(2)  # Adjust the edge width\n",
    "    boxplot['whiskers'][i*2].set_color(color)  # Adjust the whisker color\n",
    "    boxplot['whiskers'][i*2+1].set_color(color)  # Adjust the whisker color\n",
    "    boxplot['medians'][i].set_color(color)  # Adjust the median color\n",
    "\n",
    "########################################################################\n",
    "\n",
    "# Printing the parameters associated with each boxplot\n",
    "for i, box in enumerate(boxplot['boxes']):\n",
    "    print(f\"Boxplot {i+1} (Dataset: {box.get_label()}):\")\n",
    "    print(f\"Median: {boxplot['medians'][i].get_ydata()[0]}\")\n",
    "    print(f\"Q1: {boxplot['whiskers'][i*2].get_ydata()[1]}\")\n",
    "    print(f\"Q3: {boxplot['whiskers'][i*2+1].get_ydata()[1]}\")\n",
    "    print(f\"Min: {boxplot['whiskers'][i*2].get_ydata()[0]}\")\n",
    "    print(f\"Max: {boxplot['whiskers'][i*2+1].get_ydata()[0]}\")\n",
    "\n",
    "########################################################################\n",
    "\n",
    "# Adding horizontal lines for observed SST \n",
    "ax.axhline(trend_NOAASSTV5*10, color='k')\n",
    "ax.axhline((trend_NOAASSTV5 + stderr_NOAASSTV5)*10, color='k', linestyle='dashed')\n",
    "ax.axhline((trend_NOAASSTV5 - stderr_NOAASSTV5)*10, color='k', linestyle='dashed')\n",
    "\n",
    "# title observed SST \n",
    "ax.text(4.55, trend_NOAASSTV5*10 , 'NOAA-ERSSTv5\\n(observed)', verticalalignment='center')\n",
    "\n",
    "########################################################################\n",
    "\n",
    "# Setting the x-axis labels\n",
    "xtick_labels = [\n",
    "    r'$\\bf{SST_{CMIP6}}$',\n",
    "    r'+ $\\bf{SST_{P-E}}$',\n",
    "    r'+ $\\bf{SST_{(melt)}}$',\n",
    "    r'+ $\\bf{Both}$']\n",
    "for label, color in zip(ax.get_xticklabels(), colors):\n",
    "    label.set_color(color)\n",
    "ax.set_xticklabels(xtick_labels,rotation=45, ha='right')\n",
    "\n",
    "ax.set_title(r'Adjusted SST' + '\\n'+ 'Trends, 1990-2021')\n",
    "ax.set_ylabel(r'$^{\\circ}$C per Decade')\n",
    "ax.text(-.2, 1.1, 'b', transform=plt.gca().transAxes, fontsize=12, fontweight='bold', va='top')\n",
    "\n",
    "########################################################################\n",
    "\n",
    "plt.show()"
   ]
  },
  {
   "cell_type": "code",
   "execution_count": 23,
   "id": "25bece51-d24f-487b-b318-a26bdffa5d33",
   "metadata": {},
   "outputs": [
    {
     "name": "stdout",
     "output_type": "stream",
     "text": [
      "0.08374013015727338\n",
      "0.3300495557319274\n",
      "0.7341480232986852\n"
     ]
    }
   ],
   "source": [
    "# Calculate median bias corrections and intermodel spread. \n",
    "\n",
    "bias = 0.05988386450850952-(trend_NOAASSTV5*10)\n",
    "PE_adjust_bias_median = 0.032245471753167665-(trend_NOAASSTV5*10)\n",
    "PE_adjust_bias_all = (trends_CMIP6_FW-(trend_NOAASSTV5*10))\n",
    "print(bias)\n",
    "print(1-(PE_adjust_bias_median/bias))\n",
    "print(np.std(1-(PE_adjust_bias_all/bias)))"
   ]
  },
  {
   "cell_type": "code",
   "execution_count": 24,
   "id": "ccbb2d02-439f-4952-a306-76f1bcf78eb2",
   "metadata": {},
   "outputs": [
    {
     "name": "stdout",
     "output_type": "stream",
     "text": [
      "0.08374013015727338\n",
      "0.27565281887623827\n",
      "0.734148023298685\n"
     ]
    }
   ],
   "source": [
    "# Calculate median bias corrections and intermodel spread. \n",
    "\n",
    "bias = 0.05988386450850952-(trend_NOAASSTV5*10)\n",
    "melt_adjust_bias_median = 0.03680066157759403-(trend_NOAASSTV5*10)\n",
    "melt_adjust_bias_all = trends_CMIP6_MW-(trend_NOAASSTV5*10)\n",
    "print(bias)\n",
    "print(1-(melt_adjust_bias_median/bias))\n",
    "print(np.std(1-(melt_adjust_bias_all/bias)))"
   ]
  },
  {
   "cell_type": "code",
   "execution_count": 37,
   "id": "a8756f99-29d3-4ad5-bc09-5ae70547f73d",
   "metadata": {},
   "outputs": [
    {
     "data": {
      "text/plain": [
       "np.float64(0.06147765102573686)"
      ]
     },
     "execution_count": 37,
     "metadata": {},
     "output_type": "execute_result"
    }
   ],
   "source": [
    "np.std(trends_CMIP6_MW-(trend_NOAASSTV5*10))"
   ]
  },
  {
   "cell_type": "code",
   "execution_count": 38,
   "id": "05f03d87-bfe8-4d0a-ab13-72caf29825f3",
   "metadata": {},
   "outputs": [
    {
     "data": {
      "text/plain": [
       "np.float64(0.06147765102573687)"
      ]
     },
     "execution_count": 38,
     "metadata": {},
     "output_type": "execute_result"
    }
   ],
   "source": [
    "np.std(trends_CMIP6-(trend_NOAASSTV5*10))"
   ]
  },
  {
   "cell_type": "code",
   "execution_count": null,
   "id": "09b518ee-6841-4677-9c9a-1d680c030f20",
   "metadata": {},
   "outputs": [],
   "source": []
  }
 ],
 "metadata": {
  "kernelspec": {
   "display_name": "Python 3 (ipykernel)",
   "language": "python",
   "name": "python3"
  },
  "language_info": {
   "codemirror_mode": {
    "name": "ipython",
    "version": 3
   },
   "file_extension": ".py",
   "mimetype": "text/x-python",
   "name": "python",
   "nbconvert_exporter": "python",
   "pygments_lexer": "ipython3",
   "version": "3.10.6"
  }
 },
 "nbformat": 4,
 "nbformat_minor": 5
}
