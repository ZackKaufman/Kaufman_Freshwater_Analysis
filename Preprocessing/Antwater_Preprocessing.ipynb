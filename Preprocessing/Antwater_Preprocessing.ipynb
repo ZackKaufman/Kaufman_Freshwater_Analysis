{
 "cells": [
  {
   "cell_type": "markdown",
   "id": "9be7696f",
   "metadata": {},
   "source": [
    "The following code processes monthly antwater SST data, using ocean potential temperature fields (thetao) downloaded from https://crd-data-donnees-rdc.ec.gc.ca/CCCMA/SOFIA/, producing the following files used in the analysis notebooks: SST_response_maps_antwater.nc, and antwater_CRFs_unscaled.nc\n",
    "\n",
    "\n",
    "Most model output from SOFIA has already been pre-processed by Neil Swart as described below, and this convention will be used as a reference grid for all other models. \n",
    "- data has been remapped to a standard 1x1 degree horizontal grid, and interpolated to standard 33 WOA vertical levels (for 3D data).\n",
    "- variable names have been set to the CMIP6 variable names, and units changed to CMIP6 units\n",
    "\n",
    "Directory paths must be changed to a user's local environment if reproducing "
   ]
  },
  {
   "cell_type": "code",
   "execution_count": 1,
   "id": "f33a9c8c",
   "metadata": {},
   "outputs": [],
   "source": [
    "import os\n",
    "import numpy as np\n",
    "import xarray as xr\n",
    "import pandas as pd\n",
    "import xesmf as xe\n",
    "import gsw\n",
    "from glob import glob\n",
    "import netCDF4\n",
    "import gc\n",
    "from scipy.optimize import curve_fit\n",
    "from scipy.stats import pearsonr\n",
    "from scipy.stats import linregress\n",
    "\n",
    "from xmip.preprocessing import rename_cmip6\n",
    "from xmip.preprocessing import broadcast_lonlat\n",
    "\n",
    "%matplotlib inline \n",
    "import warnings\n",
    "warnings.filterwarnings(\"ignore\")"
   ]
  },
  {
   "cell_type": "code",
   "execution_count": 8,
   "id": "00f057e3",
   "metadata": {},
   "outputs": [
    {
     "name": "stdout",
     "output_type": "stream",
     "text": [
      "pre-processed antwater contributing models:\n",
      "['hadgem3-gc31-ll', 'cesm2', 'gfdl-esm4', 'giss-e2-1-g', 'access-esm1-5', 'gfdl-cm4', 'canesm5']\n",
      "unprocessed antwater contributing models:\n",
      "['AWI-ESM-1-REcoM']\n"
     ]
    }
   ],
   "source": [
    "########################################################################\n",
    "# extract contributing model names for a given directory/experiment\n",
    "\n",
    "def extract_model_names(directory,experiment):\n",
    "    model_names = []\n",
    "    file_pattern = os.path.join(directory, '*_*_{}.nc'.format(experiment))\n",
    "\n",
    "    for file_path in glob(file_pattern):\n",
    "        filename = os.path.basename(file_path)\n",
    "        model_name = filename.split('_')[1]  # Extract the model name from the filename\n",
    "        model_names.append(model_name)\n",
    "        \n",
    "    # Remove duplicates by converting the list to a set and then back to a list\n",
    "    model_names = list(set(model_names))\n",
    "\n",
    "    return model_names\n",
    "\n",
    "########################################################################\n",
    "\n",
    "directory_of_interest = '/oak/stanford/groups/earlew/zkaufman/Archive_KaufmanGRL2025/antwater/processed'\n",
    "model_names_antwater_processed = extract_model_names(directory_of_interest,'antwater')\n",
    "print('pre-processed antwater contributing models:')\n",
    "print(model_names_antwater_processed)\n",
    "\n",
    "########################################################################\n",
    "\n",
    "directory_of_interest = '/oak/stanford/groups/earlew/zkaufman/Archive_KaufmanGRL2025/antwater/unprocessed'\n",
    "model_names_antwater_unprocessed = extract_model_names(directory_of_interest,'antwater')\n",
    "print('unprocessed antwater contributing models:')\n",
    "print(model_names_antwater_unprocessed)\n",
    "\n",
    "########################################################################\n",
    "\n",
    "# combined list of all antwater models for future reference \n",
    "model_names_antwater_unprocessed= model_names_antwater_unprocessed\n",
    "model_names_antwater = model_names_antwater_processed + model_names_antwater_unprocessed\n"
   ]
  },
  {
   "cell_type": "code",
   "execution_count": 4,
   "id": "7ffb5408",
   "metadata": {},
   "outputs": [],
   "source": [
    "# create dictionaries for processed data (antwater and picontrol)\n",
    "\n",
    "os.chdir('/oak/stanford/groups/earlew/zkaufman/Archive_KaufmanGRL2025/antwater/processed')\n",
    "\n",
    "thetao_antwater = {} \n",
    "thetao_piControl_SOFIA = {}\n",
    "\n",
    "for model in model_names_antwater_processed:\n",
    "    \n",
    "    thetao_antwater\\\n",
    "    ['thetao_'+ model +'_antwater'] = xr.open_dataset('thetao_{}_antwater.nc'.format(model))\n",
    "    \n",
    "    thetao_piControl_SOFIA\\\n",
    "    ['thetao_'+ model +'_piControl'] = xr.open_dataset('thetao_{}_piControl.nc'.format(model))\n",
    "\n",
    "########################################################################\n",
    "\n",
    "# create dictionaries for unprocessed data (antwater and picontrol)\n",
    "\n",
    "os.chdir('/oak/stanford/groups/earlew/zkaufman/Archive_KaufmanGRL2025/antwater/unprocessed')\n",
    "\n",
    "thetao_antwater_unprocessed = {} \n",
    "thetao_piControl_SOFIA_unprocessed = {}\n",
    "\n",
    "for model in model_names_antwater_unprocessed:\n",
    "    \n",
    "    thetao_antwater_unprocessed\\\n",
    "    ['thetao_'+ model +'_antwater'] = xr.open_dataset('thetao_{}_antwater.nc'.format(model))\n",
    "    \n",
    "    thetao_piControl_SOFIA_unprocessed\\\n",
    "    ['thetao_'+ model +'_piControl'] = xr.open_dataset('thetao_{}_piControl.nc'.format(model))\n"
   ]
  },
  {
   "cell_type": "code",
   "execution_count": 5,
   "id": "57ef8a47",
   "metadata": {},
   "outputs": [],
   "source": [
    "# For processed models, extract uppermost level of thetao variable and convert to 2d lat/lon.\n",
    "\n",
    "for key in thetao_antwater.keys():\n",
    "    thetao_antwater[key] = broadcast_lonlat(rename_cmip6(thetao_antwater[key])).thetao.sel(lev= 0)\n",
    "    \n",
    "for key in thetao_piControl_SOFIA.keys():\n",
    "    thetao_piControl_SOFIA[key] = broadcast_lonlat(rename_cmip6(thetao_piControl_SOFIA[key])).thetao.sel(lev=0)\n",
    "\n",
    "########################################################################\n",
    "\n",
    "# Then,take the annual mean of the monthly data, along with creating uniform datetime index across models. \n",
    "\n",
    "for key in thetao_antwater.keys():\n",
    "\n",
    "        thetao_antwater[key]['time'] = xr.cftime_range\\\n",
    "        (start='1000', periods=len(thetao_antwater[key]['time']), freq='M')\n",
    "\n",
    "        thetao_antwater[key] = thetao_antwater[key].resample(time='A').mean()           \n",
    "            \n",
    "for key in thetao_piControl_SOFIA.keys():\n",
    "    \n",
    "        thetao_piControl_SOFIA[key]['time'] = xr.cftime_range\\\n",
    "        (start='1000', periods=len(thetao_piControl_SOFIA[key]['time']), freq='M')\n",
    "\n",
    "        thetao_piControl_SOFIA[key] = thetao_piControl_SOFIA[key].resample(time='A').mean()   \n",
    "            "
   ]
  },
  {
   "cell_type": "code",
   "execution_count": 11,
   "id": "a74271aa",
   "metadata": {},
   "outputs": [
    {
     "name": "stdout",
     "output_type": "stream",
     "text": [
      "coordinate features of unprocessed SOFIA models\n",
      "----------\n",
      "AWI-ESM-1-REcoM\n",
      "----------\n",
      "Coordinates:\n",
      "  * time     (time) datetime64[ns] 10kB 1870-01-16 ... 1970-12-16\n",
      "  * lon      (lon) float64 3kB -179.5 -178.5 -177.5 -176.5 ... 177.5 178.5 179.5\n",
      "  * lat      (lat) float64 1kB -89.5 -88.5 -87.5 -86.5 ... 86.5 87.5 88.5 89.5\n",
      "  * depth    (depth) float64 368B 0.0 10.0 20.0 ... 5.4e+03 5.65e+03 5.9e+03\n",
      "Coordinates:\n",
      "  * time     (time) datetime64[ns] 10kB 1870-01-16 ... 1970-12-16\n",
      "  * lon      (lon) float64 3kB -179.5 -178.5 -177.5 -176.5 ... 177.5 178.5 179.5\n",
      "  * lat      (lat) float64 1kB -89.5 -88.5 -87.5 -86.5 ... 86.5 87.5 88.5 89.5\n",
      "  * depth    (depth) float64 368B 0.0 10.0 20.0 ... 5.4e+03 5.65e+03 5.9e+03\n"
     ]
    }
   ],
   "source": [
    "# check the state of each unprocessed SOFIA model to see what needs to be addressed in addition to above. \n",
    "    \n",
    "for model in model_names_antwater_unprocessed:\n",
    "    print('coordinate features of unprocessed SOFIA models')\n",
    "    print('----------')    \n",
    "    print(model)\n",
    "    print('----------')\n",
    "    print(thetao_antwater_unprocessed\\\n",
    "    ['thetao_{}_antwater'.format(model)].coords)\n",
    "    print(thetao_piControl_SOFIA_unprocessed\\\n",
    "    ['thetao_{}_piControl'.format(model)].coords)\n"
   ]
  },
  {
   "cell_type": "code",
   "execution_count": 12,
   "id": "30ac0a4c",
   "metadata": {},
   "outputs": [],
   "source": [
    "# Given above, we only need to account for the different name of the depth dimension. \n",
    "# Depth intervals here do not follow the WOA standard, but we can ignore this when only using uppermost level \n",
    "# Accordingly, the unprocessed model can be treated the same way. \n",
    "\n",
    "for key in thetao_antwater_unprocessed.keys():\n",
    "    thetao_antwater_unprocessed[key] = broadcast_lonlat\\\n",
    "    (rename_cmip6(thetao_antwater_unprocessed[key])).thetao.sel(lev= 0)\n",
    "    \n",
    "for key in thetao_piControl_SOFIA_unprocessed.keys():\n",
    "    thetao_piControl_SOFIA_unprocessed[key] = broadcast_lonlat\\\n",
    "    (rename_cmip6(thetao_piControl_SOFIA_unprocessed[key])).thetao.sel(lev=0)\n",
    "\n",
    " ########################################################################\n",
    "\n",
    "for key in thetao_antwater_unprocessed.keys():\n",
    "\n",
    "        thetao_antwater_unprocessed[key]['time'] = xr.cftime_range\\\n",
    "        (start='1000', periods=len(thetao_antwater_unprocessed[key]['time']), freq='M')\n",
    "\n",
    "        thetao_antwater_unprocessed[key] = thetao_antwater_unprocessed[key].resample(time='A').mean()           \n",
    "\n",
    "for key in thetao_piControl_SOFIA_unprocessed.keys():\n",
    "    \n",
    "        thetao_piControl_SOFIA_unprocessed[key]['time'] = xr.cftime_range\\\n",
    "        (start='1000', periods=len(thetao_piControl_SOFIA_unprocessed[key]['time']), freq='M')\n",
    "\n",
    "        thetao_piControl_SOFIA_unprocessed[key] = \\\n",
    "        thetao_piControl_SOFIA_unprocessed[key].resample(time='A').mean()   \n"
   ]
  },
  {
   "cell_type": "code",
   "execution_count": 13,
   "id": "d7f46c86",
   "metadata": {},
   "outputs": [],
   "source": [
    "# Finally, merge processed and unprocessed models together \n",
    "\n",
    "thetao_antwater = {**thetao_antwater,**thetao_antwater_unprocessed}\n",
    "thetao_piControl_SOFIA = {**thetao_piControl_SOFIA,**thetao_piControl_SOFIA_unprocessed}\n"
   ]
  },
  {
   "cell_type": "code",
   "execution_count": 15,
   "id": "02240b55",
   "metadata": {},
   "outputs": [
    {
     "name": "stdout",
     "output_type": "stream",
     "text": [
      "CPU times: user 167 ms, sys: 32.5 ms, total: 199 ms\n",
      "Wall time: 198 ms\n"
     ]
    }
   ],
   "source": [
    "%%time\n",
    "\n",
    "# Initialize lists for SST anomalies\n",
    "SST_anoms_antwater = []\n",
    "\n",
    "# Define a function to calculate anomalies for a single model\n",
    "def calculate_anomaly_antwater(model):\n",
    "    return (thetao_antwater[f'thetao_{model}_antwater'][60:70,:,:].mean(dim='time')\n",
    "            - thetao_piControl_SOFIA[f'thetao_{model}_piControl'].mean(dim='time'))\n",
    "\n",
    "# Calculate anomalies for each experiment and append to the lists\n",
    "SST_anoms_antwater = [calculate_anomaly_antwater(model) for model in model_names_antwater]\n",
    "\n",
    "# Convert lists to xarray DataArrays\n",
    "SST_anoms_antwater = \\\n",
    "xr.concat(SST_anoms_antwater, dim='model', coords='minimal', compat='override')"
   ]
  },
  {
   "cell_type": "code",
   "execution_count": 16,
   "id": "14d7e81d",
   "metadata": {},
   "outputs": [],
   "source": [
    "SST_anoms_antwater = SST_anoms_antwater.assign_coords(model=model_names_antwater)"
   ]
  },
  {
   "cell_type": "code",
   "execution_count": 18,
   "id": "757531b7",
   "metadata": {},
   "outputs": [],
   "source": [
    "# save postprocessed file for anomaly maps of each model. \n",
    "\n",
    "os.chdir('/oak/stanford/groups/earlew/zkaufman/Archive_KaufmanGRL2025/postprocessed_analysis_notebooks')\n",
    "\n",
    "output_filename = 'SST_response_maps_antwater.nc'\n",
    "SST_anoms_antwater.to_netcdf(output_filename)"
   ]
  },
  {
   "cell_type": "code",
   "execution_count": 19,
   "id": "ef2f8a55",
   "metadata": {},
   "outputs": [],
   "source": [
    "# calculate spatially averaged SST response (unscaled, for climate response functions )\n",
    "\n",
    "\n",
    "def subset_bylatitude(data, south_bound, north_bound):\n",
    "    lat_mask = (data.lat >= south_bound) & (data.lat <= north_bound)\n",
    "    data_SO = data.where(lat_mask, drop=True)\n",
    "    return data_SO\n",
    "\n",
    "\n",
    "# spatially average CMIP6 Omon field over specified latitudes\n",
    "# assumes spatial average is conducted over all longitudes\n",
    "# Assumes regrid_dataarray function is already applied\n",
    "def spatial_average(inputdata,southlat,northlat):\n",
    "    data_subset = subset_bylatitude\\\n",
    "    (inputdata,south_bound=southlat,north_bound=northlat)\n",
    "    lat_subset = data_subset.lat\n",
    "    coslat = np.cos(np.deg2rad(lat_subset))\n",
    "    weight_factor = coslat / coslat.mean(dim='y')\n",
    "    data_average = \\\n",
    "    (data_subset * weight_factor).mean(dim=('x', 'y'),skipna=True)\n",
    "    return data_average\n",
    "\n",
    "\n",
    "# Initialize dictionary\n",
    "antwater_CRF_dict = {}\n",
    "\n",
    "for model in model_names_antwater:\n",
    "    \n",
    "    antwater_CRF_dict[f'CRF_{model}_antwater'] = \\\n",
    "    (spatial_average(thetao_antwater[f'thetao_{model}_antwater'],-65,-50) - \\\n",
    "    spatial_average(thetao_piControl_SOFIA[f'thetao_{model}_piControl'].mean(dim='time'),-65,-50)) "
   ]
  },
  {
   "cell_type": "code",
   "execution_count": 20,
   "id": "f0ca2912",
   "metadata": {},
   "outputs": [],
   "source": [
    "# save postprocessed file for response functions. \n",
    "\n",
    "os.chdir('/oak/stanford/groups/earlew/zkaufman/Archive_KaufmanGRL2025/postprocessed_analysis_notebooks')\n",
    "\n",
    "def save_data_arrays_to_netcdf(data_arrays, filename):\n",
    "    first_data_array_saved = False\n",
    "\n",
    "    for var_name, data_array in data_arrays.items():\n",
    "        mode = 'w' if not first_data_array_saved else 'a'\n",
    "        data_array.to_netcdf(filename, mode=mode, group=var_name)\n",
    "        first_data_array_saved = True\n",
    "        \n",
    "        \n",
    "save_data_arrays_to_netcdf(antwater_CRF_dict, 'antwater_CRFs_unscaled.nc')\n"
   ]
  }
 ],
 "metadata": {
  "kernelspec": {
   "display_name": "Python 3 (ipykernel)",
   "language": "python",
   "name": "python3"
  },
  "language_info": {
   "codemirror_mode": {
    "name": "ipython",
    "version": 3
   },
   "file_extension": ".py",
   "mimetype": "text/x-python",
   "name": "python",
   "nbconvert_exporter": "python",
   "pygments_lexer": "ipython3",
   "version": "3.10.9"
  }
 },
 "nbformat": 4,
 "nbformat_minor": 5
}
